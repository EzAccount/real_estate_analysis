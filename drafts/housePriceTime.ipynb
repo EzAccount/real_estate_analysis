{
 "cells": [
  {
   "cell_type": "code",
   "execution_count": null,
   "id": "dd0e13ba",
   "metadata": {},
   "outputs": [],
   "source": [
    "import pandas as pd\n",
    "from scipy.stats import mstats\n",
    "\n",
    "baltimore_RE = pd.read_csv(\"redfin_2024-10-19-11-30-56.csv\")\n",
    "Q1 = baltimore_RE['PRICE'].quantile(0.05)\n",
    "Q3 = baltimore_RE['PRICE'].quantile(0.95)\n",
    "IQR = Q3 - Q1\n",
    "\n",
    "baltimore_RE_cropped = baltimore_RE[~((baltimore_RE['PRICE'] < (Q1 - 1.5 * IQR)) |(baltimore_RE['PRICE'] > (Q3 + 1.5 * IQR)))]\n",
    "\n",
    "print(baltimore_RE.columns.values.tolist())\n",
    "\n",
    "unique_property_types = baltimore_RE_cropped['PROPERTY TYPE'].unique()\n",
    "\n",
    "\n",
    "\n",
    "townhouse_condo = baltimore_RE_cropped[((baltimore_RE_cropped['PROPERTY TYPE']=='Townhouse')|(baltimore_RE_cropped['PROPERTY TYPE']=='Condo/Co-op'))].copy()\n",
    "\n",
    "townhouse_condo.loc[:,'DAYS ON MARKET'] = townhouse_condo['DAYS ON MARKET'].apply(lambda x: 'Less than a month' if x < 30 else 'More than a month')\n",
    "\n",
    "\n",
    "sbn.violinplot(data = townhouse_condo, x='PRICE', y='PROPERTY TYPE', hue='DAYS ON MARKET')"
   ]
  }
 ],
 "metadata": {
  "kernelspec": {
   "display_name": "Python 3 (ipykernel)",
   "language": "python",
   "name": "python3"
  },
  "language_info": {
   "codemirror_mode": {
    "name": "ipython",
    "version": 3
   },
   "file_extension": ".py",
   "mimetype": "text/x-python",
   "name": "python",
   "nbconvert_exporter": "python",
   "pygments_lexer": "ipython3",
   "version": "3.9.20"
  }
 },
 "nbformat": 4,
 "nbformat_minor": 5
}
